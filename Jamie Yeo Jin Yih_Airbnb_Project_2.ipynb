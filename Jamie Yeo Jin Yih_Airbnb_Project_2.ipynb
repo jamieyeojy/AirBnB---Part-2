{
 "cells": [
  {
   "cell_type": "markdown",
   "metadata": {},
   "source": [
    "<hr>\n",
    "\n",
    "</hr>\n",
    "<br>\n",
    "</br>\n",
    "\n",
    "<img src=\"http://www.stickpng.com/assets/images/580b57fcd9996e24bc43c513.png\" width=\"400\">\n",
    "<br>\n",
    "</br>\n",
    "<br>\n",
    "</br>\n",
    "\n",
    "Airbnb is an online marketplace and hospitality service, enabling people to lease or rent short-term lodging including vacation rentals, apartment rentals, homestays, hostel beds, or hotel rooms. The company does not own any lodging; it is merely a broker and receives percentage service fees (commissions) from both guests and hosts in conjunction with every booking. In this project, I aim to use algorithms and libraries to mine the reviews people have submitted on Singapore AirBnB rentals in order to provide descriptive analytics.\n",
    "\n",
    "\n",
    "<h2> Load File </h2>\n",
    "\n",
    "To start off, I imported and loaded the `airbnb_data.csv` as <b>a list of dictionaries</b> into a new variable called `airbnb_data`."
   ]
  },
  {
   "cell_type": "code",
   "execution_count": 2,
   "metadata": {},
   "outputs": [
    {
     "data": {
      "text/plain": [
       "{'listing_id': '1133718',\n",
       " 'survey_id': '1280',\n",
       " 'host_id': '6219420',\n",
       " 'room_type': 'Shared room',\n",
       " 'country': '',\n",
       " 'city': 'Singapore',\n",
       " 'borough': '',\n",
       " 'neighborhood': 'MK03',\n",
       " 'reviews': '9',\n",
       " 'overall_satisfaction': '4.5',\n",
       " 'accommodates': '12',\n",
       " 'bedrooms': '1.0',\n",
       " 'bathrooms': '',\n",
       " 'price': '74.0',\n",
       " 'minstay': '',\n",
       " 'last_modified': '2017-05-17 09:10:25.431659',\n",
       " 'latitude': '1.293354',\n",
       " 'longitude': '103.769226',\n",
       " 'location': '0101000020E6100000E84EB0FF3AF159409C69C2F693B1F43F'}"
      ]
     },
     "execution_count": 2,
     "metadata": {},
     "output_type": "execute_result"
    }
   ],
   "source": [
    "# Read file into a list called airbnb_data\n",
    "\n",
    "import csv\n",
    "airbnb_data = []\n",
    "with open('airbnb_data.csv') as f:\n",
    "    reader = csv.DictReader(f,delimiter=',')\n",
    "    for row in reader:\n",
    "        airbnb_data.append(dict(row))\n",
    "    \n",
    "airbnb_data[0]"
   ]
  },
  {
   "cell_type": "markdown",
   "metadata": {},
   "source": [
    "## Data Cleaning \n",
    "As previewed above, all key-value pairs were in type: string.\n",
    "\n",
    "However, there are certain columns with data that I want to be in type: float instead to work better with for data analysis.\n",
    "\n",
    "I will clean the following columns to their appropriate types: **overall_satisfaction, price, longtitude, latitude, reviews**"
   ]
  },
  {
   "cell_type": "code",
   "execution_count": 3,
   "metadata": {},
   "outputs": [
    {
     "name": "stdout",
     "output_type": "stream",
     "text": [
      "{'listing_id': '1133718', 'survey_id': '1280', 'host_id': '6219420', 'room_type': 'Shared room', 'country': '', 'city': 'Singapore', 'borough': '', 'neighborhood': 'MK03', 'reviews': 9.0, 'overall_satisfaction': 4.5, 'accommodates': '12', 'bedrooms': '1.0', 'bathrooms': '', 'price': 74.0, 'minstay': '', 'last_modified': '2017-05-17 09:10:25.431659', 'latitude': 1.293354, 'longitude': 103.769226, 'location': '0101000020E6100000E84EB0FF3AF159409C69C2F693B1F43F'}\n"
     ]
    }
   ],
   "source": [
    "for row in airbnb_data:\n",
    "    row['overall_satisfaction'] = float(row['overall_satisfaction'])\n",
    "    row['price'] = float(row['price'])\n",
    "    row['reviews'] = float(row['reviews'])\n",
    "    row['latitude'] = float(row['latitude'])\n",
    "    row['longitude'] = float(row['longitude'])\n",
    "    \n",
    "print(airbnb_data[0])"
   ]
  },
  {
   "cell_type": "markdown",
   "metadata": {},
   "source": [
    "## Exploratory Data Analysis "
   ]
  },
  {
   "cell_type": "markdown",
   "metadata": {},
   "source": [
    "**List out each neighborhoods and their corresponding number of listings **\n",
    "\n",
    "*My approach:* Counting with dictionaries, where key is neigbhorhood id, value is counts.\n",
    "\n",
    "*e.g. Expected Output:*\n",
    "```python\n",
    "    print(results['TS17']) # 342 counts.\n",
    "```"
   ]
  },
  {
   "cell_type": "code",
   "execution_count": 4,
   "metadata": {
    "scrolled": true
   },
   "outputs": [
    {
     "name": "stdout",
     "output_type": "stream",
     "text": [
      "342\n"
     ]
    }
   ],
   "source": [
    "#Write code below\n",
    "\n",
    "results ={}\n",
    "\n",
    "for row in airbnb_data:\n",
    "    neighbourhood_id = row[\"neighborhood\"]\n",
    "    \n",
    "    if neighbourhood_id not in results:\n",
    "        results[neighbourhood_id] = 1\n",
    "    else:\n",
    "        results[neighbourhood_id] += 1\n",
    "print(results[\"TS17\"])"
   ]
  },
  {
   "cell_type": "markdown",
   "metadata": {},
   "source": [
    "**List out each neighborhood and their average overall_satisfaction**\n",
    "\n",
    "I have filtered out listings whose reviews are 0.\n",
    "\n",
    "<i> My approach:\n",
    "1. Create 2 dictionaries\n",
    "    - Dictionary 1: Key is neighborhood, value is an accumulation of scores\n",
    "    - Dictionary 2: Key is neighborhood, value is an accumulation of counts\n",
    "2. Create 3rd dictionary\n",
    "3. Loop through 1 dictionary (using 1 for loop only because both share same key!), calculate average and store in 3rd dictionary\n",
    "</i>\n",
    "\n",
    "*Expected Output:*\n",
    "```python\n",
    "    print(results['TS17']) # average score of 2.859447004608295.\n",
    "```"
   ]
  },
  {
   "cell_type": "code",
   "execution_count": 60,
   "metadata": {
    "scrolled": true
   },
   "outputs": [
    {
     "name": "stdout",
     "output_type": "stream",
     "text": [
      "2.859447004608295\n"
     ]
    }
   ],
   "source": [
    "neighbourhood_scores = {}\n",
    "neighbourhood_counts = {}\n",
    "results = {}\n",
    "\n",
    "for row in airbnb_data:\n",
    "    if row[\"reviews\"] > 0:\n",
    "        neighbourhood_id = row[\"neighborhood\"]\n",
    "        satisfaction = row[\"overall_satisfaction\"]\n",
    "    \n",
    "        if neighbourhood_id not in neighbourhood_counts:\n",
    "            neighbourhood_counts[neighbourhood_id] = 1\n",
    "            neighbourhood_scores[neighbourhood_id] = satisfaction\n",
    "        else:\n",
    "            neighbourhood_counts[neighbourhood_id] += 1\n",
    "            neighbourhood_scores[neighbourhood_id] += satisfaction\n",
    "\n",
    "for neighbourhood_id,scores in neighbourhood_scores.items():\n",
    "    counts= neighbourhood_counts[neighbourhood_id]\n",
    "\n",
    "    average = scores / counts\n",
    "    if neighbourhood_id not in results:\n",
    "        results[neighbourhood_id] = average\n",
    "\n",
    "print(results[\"TS17\"])"
   ]
  },
  {
   "cell_type": "markdown",
   "metadata": {},
   "source": [
    "**List out each neighborhood and their average price**\n",
    "\n",
    "*e.g. Expected Output:*\n",
    "```python\n",
    "    print(results['TS17']) # it should give you an average price of 95.5672514619883.\n",
    "```"
   ]
  },
  {
   "cell_type": "code",
   "execution_count": 6,
   "metadata": {
    "scrolled": true
   },
   "outputs": [
    {
     "name": "stdout",
     "output_type": "stream",
     "text": [
      "95.5672514619883\n"
     ]
    }
   ],
   "source": [
    "neighbourhood_price = {}\n",
    "neighbourhood_counts = {}\n",
    "results = {}\n",
    "\n",
    "for row in airbnb_data:\n",
    "        neighbourhood_id = row[\"neighborhood\"]\n",
    "        price = row[\"price\"]\n",
    "    \n",
    "        if neighbourhood_id not in neighbourhood_counts:\n",
    "            neighbourhood_counts[neighbourhood_id] = 1\n",
    "            neighbourhood_price[neighbourhood_id] = price\n",
    "        else:\n",
    "            neighbourhood_counts[neighbourhood_id] += 1\n",
    "            neighbourhood_price[neighbourhood_id] += price\n",
    "\n",
    "for neighbourhood_id,price in neighbourhood_price.items():\n",
    "    counts= neighbourhood_counts[neighbourhood_id]\n",
    "\n",
    "    average = price / counts\n",
    "    if neighbourhood_id not in results:\n",
    "        results[neighbourhood_id] = average\n",
    "\n",
    "print(results[\"TS17\"])"
   ]
  },
  {
   "cell_type": "markdown",
   "metadata": {},
   "source": [
    "**Plot a distribution of counts of the overall_satisfaction **\n",
    "<b>I have filtered out listings whose reviews are 0. </b>"
   ]
  },
  {
   "cell_type": "code",
   "execution_count": 59,
   "metadata": {},
   "outputs": [
    {
     "name": "stdout",
     "output_type": "stream",
     "text": [
      "{4.5: 1435, 5.0: 1032, 0.0: 1408, 4.0: 476, 3.5: 155, 2.5: 12, 3.0: 44, 2.0: 3, 1.0: 1, 1.5: 1}\n"
     ]
    },
    {
     "data": {
      "image/png": "[encoded data removed]",
      "text/plain": [
       "<Figure size 432x288 with 1 Axes>"
      ]
     },
     "metadata": {},
     "output_type": "display_data"
    }
   ],
   "source": [
    "import matplotlib.pyplot as plt\n",
    "%matplotlib inline\n",
    "import re\n",
    "import pandas as pd\n",
    "import numpy as np\n",
    "import seaborn as sns\n",
    "\n",
    "result = {}\n",
    "for row in airbnb_data:\n",
    "    satisfaction = row[\"overall_satisfaction\"]\n",
    "    if row[\"reviews\"] != 0:\n",
    "        if satisfaction not in result:\n",
    "            result[satisfaction] = 1\n",
    "        else:\n",
    "            result[satisfaction] += 1\n",
    "\n",
    "print(result)\n",
    "plt.bar(result.keys(), result.values(), color= \"blue\")\n",
    "plt.title(\"Distribution of Overall Satisfaction Scores\", color = \"black\")\n",
    "plt.xticks(rotation = \"horizontal\")\n",
    "plt.xlabel(\"Overall Satisfaction Scores\")\n",
    "plt.ylabel(\"Counts\")\n",
    "plt.show()"
   ]
  },
  {
   "cell_type": "markdown",
   "metadata": {},
   "source": [
    "**Plot a geographical representation of all of the listings in Singapore**\n",
    "\n",
    "<i> My approach:\n",
    "1. Create a list for latitude\n",
    "2. Create a list for longitude\n",
    "3. Append each listing's latitude and logitude to the lists\n",
    "4. Plot a scatter plot using both lists\n",
    "</i>"
   ]
  },
  {
   "cell_type": "code",
   "execution_count": 8,
   "metadata": {},
   "outputs": [
    {
     "data": {
      "image/png": "[encoded data removed]",
      "text/plain": [
       "<Figure size 432x288 with 1 Axes>"
      ]
     },
     "metadata": {},
     "output_type": "display_data"
    }
   ],
   "source": [
    "import matplotlib.pyplot as plt\n",
    "%matplotlib inline\n",
    "\n",
    "lat = []\n",
    "lon = []\n",
    "\n",
    "for data in airbnb_data:\n",
    "    lat.append(data[\"latitude\"])\n",
    "    lon.append(data[\"longitude\"])\n",
    "\n",
    "fig, ax = plt.subplots()\n",
    "\n",
    "plt.xlabel(\"Longitude\")\n",
    "plt.ylabel(\"Latitude\")\n",
    "plt.title(\"Geographical Representation of All Airbnb Listings in Singapore\", color = \"black\")\n",
    "\n",
    "s=plt.scatter(lon, lat)\n",
    "\n",
    "plt.show()"
   ]
  },
  {
   "cell_type": "markdown",
   "metadata": {},
   "source": [
    "# AirBnB Visualisation and Price Recommender App\n",
    "\n",
    "Based on the earlier EDA, we have seen that it is not modular and does not allow the AirBnB team to look into each neighborhood. I will now build a simple application to improve the earlier EDA while serving 2 types of users: Guests and Hosts. \n",
    "\n",
    "\n",
    "**Objective: Develop an app which will serve the 2 main users:**\n",
    "1. Guests\n",
    "    - Visualisation tool to recommend them the best listings based on price and overall satisfaction score in a neighborhood\n",
    "2. Hosts\n",
    "    - Recommend a price to set for their listing in a given neighborhood based on better performing listings"
   ]
  },
  {
   "cell_type": "markdown",
   "metadata": {},
   "source": [
    "<hr></hr>\n",
    "\n",
    "<h2> Building the App </h2>\n",
    "\n",
    "To begin building the App, there are 2 things I need to do:\n",
    "1. Build the functions\n",
    "2. Test the functions "
   ]
  },
  {
   "cell_type": "markdown",
   "metadata": {},
   "source": [
    "### `get_all_latitudes()` - Functions to get all latitudes given a list of listing_ids \n",
    "\n",
    "\n",
    "<i> My approach:\n",
    "1. Create a dic dictionary\n",
    "2. Extract the latitude and listing id of each row and listing id into dic.key, latitude into dic.value\n",
    "3. Create a result list\n",
    "4. Check listing id exists within dic.value\n",
    "5. If true, append the latitude into the results list\n",
    "6. Return results list\n",
    "</i>\n",
    "\n",
    "<b>Input</b>: `airbnb_data` as `data`, a `list` of listing_ids\n",
    "\n",
    "<b>Return</b>: A `list` of latitudes\n"
   ]
  },
  {
   "cell_type": "code",
   "execution_count": 16,
   "metadata": {},
   "outputs": [],
   "source": [
    "def get_all_latitude(data, listing_ids):\n",
    "    dic= {}\n",
    "    for row in airbnb_data:\n",
    "        listing_id = row[\"listing_id\"]\n",
    "        latitude = row[\"latitude\"]\n",
    "        dic[listing_id] = [latitude]\n",
    "    result = []\n",
    "    for i in listing_ids:\n",
    "        for k,v in dic.items():\n",
    "            if i == k:\n",
    "                result.append(v)\n",
    "                \n",
    "    return result"
   ]
  },
  {
   "cell_type": "markdown",
   "metadata": {},
   "source": [
    "<b>Tester Cell</b> - To test the above function to see if it's working.\n",
    "\n",
    "<b>Expected Output:</b>\n",
    "\n",
    "    [1.305702, 1.296138, 1.304393]"
   ]
  },
  {
   "cell_type": "code",
   "execution_count": 17,
   "metadata": {},
   "outputs": [
    {
     "data": {
      "text/plain": [
       "[[1.305702], [1.296138], [1.304393]]"
      ]
     },
     "execution_count": 17,
     "metadata": {},
     "output_type": "execute_result"
    }
   ],
   "source": [
    "get_all_latitude(airbnb_data, ['10350448','13507262','13642646'])"
   ]
  },
  {
   "cell_type": "markdown",
   "metadata": {},
   "source": [
    "### `get_all_longitudes()` - Functions to get all longitudes given a list of listing_ids <font color='red'>(5 marks)</font>\n",
    "\n",
    "\n",
    "<i> My approach:\n",
    "1. Create a dic dictionary\n",
    "2. Extract the longitude and listing id of each row and listing id into dic.key, longitude into dic.value\n",
    "3. Create a result list\n",
    "4. Check listing id exists within dic.value\n",
    "5. If true, append the longitude into the results list\n",
    "6. Return results list\n",
    "</i>\n",
    "\n",
    "<b>Input</b>: `airbnb_data` as `data`, a `list` of listing_ids\n",
    "\n",
    "<b>Return</b>: A `list` of longitudes"
   ]
  },
  {
   "cell_type": "code",
   "execution_count": 61,
   "metadata": {},
   "outputs": [],
   "source": [
    "def get_all_longitude(data, listing_ids):\n",
    "    dic= {}\n",
    "    for row in airbnb_data:\n",
    "        listing_id = row[\"listing_id\"]\n",
    "        longitude = row[\"longitude\"]\n",
    "        dic[listing_id] = [longitude]\n",
    "    result = []\n",
    "    for i in listing_ids:\n",
    "        for k,v in dic.items():\n",
    "            if i == k:\n",
    "                result.append(v)\n",
    "                \n",
    "    return result"
   ]
  },
  {
   "cell_type": "markdown",
   "metadata": {},
   "source": [
    "<b>Tester Cell</b> - To test the above function to see if it's working.\n",
    "\n",
    "<b>Expected Output:</b>\n",
    "\n",
    "    [103.79878, 103.767841, 103.784174]"
   ]
  },
  {
   "cell_type": "code",
   "execution_count": 20,
   "metadata": {},
   "outputs": [
    {
     "data": {
      "text/plain": [
       "[[103.79878], [103.767841], [103.784174]]"
      ]
     },
     "execution_count": 20,
     "metadata": {},
     "output_type": "execute_result"
    }
   ],
   "source": [
    "get_all_longitude(airbnb_data, ['10350448','13507262','13642646'])"
   ]
  },
  {
   "cell_type": "markdown",
   "metadata": {},
   "source": [
    "### `listings_recommender()` - Function to recommend all listings based on a given price, satisfaction score and neighborhood \n",
    "\n",
    "Recommendation based on:\n",
    "1. Lesser than or equal to that price\n",
    "2. Equal or more than that overall satisfaction score\n",
    "3. In that neighborhood\n",
    "\n",
    "<i> My approach: \n",
    "1. Create a results list\n",
    "2. Extract the relevant of each row\n",
    "3. Check it satisfies all conditions passed into the function\n",
    "4. If true, append the listing id into the results list\n",
    "5. Return results list\n",
    "</i>\n",
    "\n",
    "<b>Input</b>: `airbnb_data` as `data`, price, overall_satisfaction, neighborhood_id\n",
    "\n",
    "<b>Return</b>: A `list` of listing_ids"
   ]
  },
  {
   "cell_type": "code",
   "execution_count": 21,
   "metadata": {},
   "outputs": [],
   "source": [
    "#Write code below\n",
    "def listings_recommender(data, price, overall_satisfaction, neighborhood_id):\n",
    "    result = []\n",
    "    for row in airbnb_data:\n",
    "        if price >= row[\"price\"] and overall_satisfaction <= row[\"overall_satisfaction\"] and neighborhood_id == row[\"neighborhood\"]:\n",
    "            result.append(row[\"listing_id\"])\n",
    "    return result\n",
    "#         price = row[\"price\"]\n",
    "#         overall_satisfaction = row[\"overall_satisfaction\"]\n",
    "#         neighborhood_id = row[\"neighborhood_id\"]\n",
    "#         dic[listing_id] = [longitude]"
   ]
  },
  {
   "cell_type": "markdown",
   "metadata": {},
   "source": [
    "<b>Tester Cell</b> - To test the above function to see if it's working.\n",
    "\n",
    "<b>Expected Output:</b>\n",
    "\n",
    "    ['10350448',\n",
    "     '13507262',\n",
    "     '13642646',\n",
    "     '15099645',\n",
    "     '6451493',\n",
    "     '4696031',\n",
    "     '2898794',\n",
    "     '13181050',\n",
    "     '9022211',\n",
    "     '5200263',\n",
    "     '6529707',\n",
    "     '14433262']"
   ]
  },
  {
   "cell_type": "code",
   "execution_count": 22,
   "metadata": {},
   "outputs": [
    {
     "data": {
      "text/plain": [
       "['10350448',\n",
       " '13507262',\n",
       " '13642646',\n",
       " '15099645',\n",
       " '6451493',\n",
       " '4696031',\n",
       " '2898794',\n",
       " '13181050',\n",
       " '9022211',\n",
       " '5200263',\n",
       " '6529707',\n",
       " '14433262']"
      ]
     },
     "execution_count": 22,
     "metadata": {},
     "output_type": "execute_result"
    }
   ],
   "source": [
    "listings_recommender(airbnb_data, 60, 5, 'MK03')"
   ]
  },
  {
   "cell_type": "markdown",
   "metadata": {},
   "source": [
    "### `price_recommender()` - Function to recommend a price in a neighborhood based on average price and overall satisfaction \n",
    "\n",
    "I now want to build a <b><i>simple</i></b> price recommendation function that will give a potential host a suggested price.\n",
    "\n",
    "To build this, these are the requirements I wish to specify: \n",
    "1. Take all listings in that neighborhood and check for listings with a least 1 review and an overall satisfaction score of 4 or more.\n",
    "2. From that filtered listings, calculate the average price and return that as the suggested price rounded to 2 decimal places.\n",
    "\n",
    "<b>Input</b>: `airbnb_data` as `data`, a neighborhood_id\n",
    "\n",
    "<b>Return</b>: A `float` of recommended price"
   ]
  },
  {
   "cell_type": "code",
   "execution_count": 62,
   "metadata": {},
   "outputs": [],
   "source": [
    "from statistics import mean \n",
    "\n",
    "def price_recommender(data, neighborhood_id):\n",
    "    prices = []\n",
    "    for row in airbnb_data:\n",
    "        if row[\"reviews\"]  >= 1 and row[\"overall_satisfaction\"] >= 4 and neighborhood_id == row[\"neighborhood\"]:\n",
    "            prices.append(row[\"price\"])\n",
    "    result = round(mean(prices),2)\n",
    "    return result"
   ]
  },
  {
   "cell_type": "markdown",
   "metadata": {},
   "source": [
    "<b>Tester Cell</b> - To test the above function to see if it's working.\n",
    "\n",
    "<b>Expected Output:</b>\n",
    "\n",
    "    66.28"
   ]
  },
  {
   "cell_type": "code",
   "execution_count": 24,
   "metadata": {},
   "outputs": [
    {
     "data": {
      "text/plain": [
       "66.28"
      ]
     },
     "execution_count": 24,
     "metadata": {},
     "output_type": "execute_result"
    }
   ],
   "source": [
    "price_recommender(airbnb_data, 'TS17')"
   ]
  },
  {
   "cell_type": "markdown",
   "metadata": {},
   "source": [
    "### `visualise_listings()` - Function to geographically visualise a given list of listings\n",
    "\n",
    "<i> My approach\n",
    "1. Using the 2 functions I've created earlier, make 2 lists, latitude and longitude\n",
    "2. Use .scatter() to plot the scatter plot\n",
    "3. .show() the scatter plot\n",
    "</i>\n",
    "\n",
    "<b>Input</b>: `airbnb_data` as `data`, a list of listing_ids\n",
    "\n",
    "<b>Output</b>: Visualisation of locations the listings\n"
   ]
  },
  {
   "cell_type": "code",
   "execution_count": 52,
   "metadata": {},
   "outputs": [],
   "source": [
    "import mplleaflet\n",
    "import matplotlib.pyplot as plt\n",
    "%matplotlib inline\n",
    "\n",
    "lat = []\n",
    "lon = []\n",
    "\n",
    "def visualise_listings(data, listing_ids):\n",
    "    for i in listing_ids:\n",
    "        for row in data:\n",
    "            if i == row['listing_id']:\n",
    "                lat.append(row[\"latitude\"])\n",
    "                lon.append(row[\"longitude\"])    \n",
    "    fig, ax = plt.subplots()\n",
    "    plt.scatter(lon, lat)\n",
    "    mplleaflet.show()"
   ]
  },
  {
   "cell_type": "markdown",
   "metadata": {},
   "source": [
    "# Test User - An Airbnb Guest\n",
    "\n",
    "I will now simulate as an Airbnb guest trying to use the app to find a list of listings I want based on the following criterias:\n",
    "\n",
    "1. price `price_to_test`\n",
    "2. overall_satisfaction `overall_satisfaction_to_test` and \n",
    "3. neighborhood `neighborhood_to_test`.\n",
    "\n",
    "*My approach*\n",
    "1. Using the 2 functions I've created earlier:\n",
    "2. Get a list of listing_ids based on the abovementioned criterias using `listing_ids`\n",
    "3. Plot the listing_ids on a geographical map using `visualise_listings`"
   ]
  },
  {
   "cell_type": "code",
   "execution_count": 63,
   "metadata": {},
   "outputs": [],
   "source": [
    "neighborhood_to_test = 'TS17'\n",
    "price_to_test = 100\n",
    "overall_satisfaction_to_test = 4\n",
    "\n",
    "#Write code below\n",
    "listing_ids = listings_recommender(airbnb_data, price_to_test, overall_satisfaction_to_test, neighborhood_to_test)\n",
    "visualise_listings(airbnb_data, listing_ids)"
   ]
  },
  {
   "cell_type": "markdown",
   "metadata": {},
   "source": [
    "<b>Output:</b> \n",
    "\n",
    "<img src=\"https://i.imgur.com/MnyhDmL.jpg\" width=400>"
   ]
  }
 ],
 "metadata": {
  "kernelspec": {
   "display_name": "Python 3",
   "language": "python",
   "name": "python3"
  },
  "language_info": {
   "codemirror_mode": {
    "name": "ipython",
    "version": 3
   },
   "file_extension": ".py",
   "mimetype": "text/x-python",
   "name": "python",
   "nbconvert_exporter": "python",
   "pygments_lexer": "ipython3",
   "version": "3.6.5"
  }
 },
 "nbformat": 4,
 "nbformat_minor": 2
}
